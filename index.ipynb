{
 "cells": [
  {
   "cell_type": "markdown",
   "metadata": {},
   "source": [
    "# MongoDB - Lab\n",
    "\n",
    "## Introduction\n",
    "\n",
    "In this lesson, we'll get some hands-on experience with MongoDB!\n",
    "\n",
    "## Objectives\n",
    "You will be able to: \n",
    "\n",
    "- Create a MongoDB database   \n",
    "- Insert data into a MongoDB database   \n",
    "- Read data from a MongoDB database   \n",
    "- Update data in a MongoDB database   \n",
    "\n",
    "## Getting Started\n",
    "\n",
    "To begin this lab, make sure that you start up the mongoDB server in your terminal first! **You must do this lab locally on your computer, not in Learn.**\n",
    "\n",
    "\n",
    "## Connecting to the MongoDB Database\n",
    "\n",
    "In the cell below, import the appropriate library and connect to the mongoDB server. Create a new database called `'lab_db'`."
   ]
  },
  {
   "cell_type": "code",
   "execution_count": 19,
   "metadata": {},
   "outputs": [],
   "source": [
    "import pymongo"
   ]
  },
  {
   "cell_type": "code",
   "execution_count": 20,
   "metadata": {},
   "outputs": [],
   "source": [
    "myclient = pymongo.MongoClient('mongodb://127.0.0.1:27017/')\n",
    "lab_db = myclient['lab_db']"
   ]
  },
  {
   "cell_type": "markdown",
   "metadata": {},
   "source": [
    "## Creating a Collection\n",
    "\n",
    "Now, create a collection called `'lab_collection'` inside `'lab_db'`."
   ]
  },
  {
   "cell_type": "code",
   "execution_count": 21,
   "metadata": {},
   "outputs": [],
   "source": [
    "mycollection = lab_db['lab_collection']"
   ]
  },
  {
   "cell_type": "markdown",
   "metadata": {},
   "source": [
    "## Adding Some Data\n",
    "\n",
    "Now, we're going to add some example records into our database. In the cells below, create dictionary representations of the following customer records:\n",
    "\n",
    "\n",
    "|     Name     |            Email           |  Mailing_Address  | Balance |                         Notes                         |\n",
    "|:------------:|:--------------------------:|:-----------------:|:-------:|:-----------------------------------------------------:|\n",
    "|  John Smith  |    j.smith@thesmiths.com   | 123 mulberry lane |   0.0   |    Called technical support, issue not yet resolved   |\n",
    "|  Jane Smith  |  jane_smith@thesmiths.com  |         Null          |  25.00  |                   Null                                    |\n",
    "|  Adam Enbar  | adam@theflatironschool.com |    11 Broadway    |  14.99  |           Set up on recurring billing cycle           |\n",
    "| Avi Flombaum |  avi@theflatironschool.com |    11 Broadway    |   0.0   |                   Null                                    |\n",
    "|   Steven S.  |     steven.s@gmail.net     |         Null          |  -20.23 | Refunded for overpayment due to price match guarantee |\n",
    "\n",
    "\n",
    "Your first challenge is to take all of the data in the table above and create the corresponding documents and add then to our mongo database. Note that fields that contain 'Null' should not be included in the document (recall that since mongo is schema-less, each document can be different). \n",
    "\n",
    "Create the documents from the table listed above, and then use `insert_many()` to insert them into the collection."
   ]
  },
  {
   "cell_type": "code",
   "execution_count": 22,
   "metadata": {},
   "outputs": [],
   "source": [
    "customer_1 = {'name': 'John Smith', 'email': 'j.smith@thesmiths.com', 'mailing_address': '123 mulberry lane', 'balance':0, 'notes': 'Called technical support, issue not yet resolved'}\n",
    "customer_2 = {'name': 'Jane Smith', 'email': 'jane_smith@thesmiths.com', 'mailing_address': '', 'balance':25, 'notes':''}\n",
    "customer_3 = {'name': 'Adam Enbar', 'email': 'adam@theflatironschool.com', 'mailing_address': '11 Broadway', 'balance':14.99, 'notes': 'Set up on recurring billing cycle'}\n",
    "customer_4 = {'name': 'Avi Flombaum', 'email': 'avi@theflatironschool.com', 'mailing_address': '11 Broadway', 'balance':0, 'notes':''}\n",
    "customer_5 = {'name': 'Steven S.', 'email': 'steven.s@gmail.net', 'mailing_address':'', 'balance':-20.23, 'notes': 'Refunded for overpayment due to price match guarantee'}\n",
    "\n",
    "all_records = [customer_1, customer_2, customer_3, customer_4, customer_5]\n",
    "\n",
    "insertion_results = mycollection.insert_many(all_records)"
   ]
  },
  {
   "cell_type": "markdown",
   "metadata": {},
   "source": [
    "Now, access the appropriate attribute from the results object returned from the insertion to see the unique IDs for each record inserted, so that we can confirm each were inserted correctly. "
   ]
  },
  {
   "cell_type": "code",
   "execution_count": 23,
   "metadata": {},
   "outputs": [
    {
     "data": {
      "text/plain": [
       "[ObjectId('5efa0bb51d41f18b89582562'),\n",
       " ObjectId('5efa0bb51d41f18b89582563'),\n",
       " ObjectId('5efa0bb51d41f18b89582564'),\n",
       " ObjectId('5efa0bb51d41f18b89582565'),\n",
       " ObjectId('5efa0bb51d41f18b89582566')]"
      ]
     },
     "execution_count": 23,
     "metadata": {},
     "output_type": "execute_result"
    }
   ],
   "source": [
    "insertion_results.inserted_ids"
   ]
  },
  {
   "cell_type": "markdown",
   "metadata": {},
   "source": [
    "## Querying and Filtering\n",
    "\n",
    "In the cell below, return the name and email address for every customer record. Then, print every item from the query to show that it worked correctly. "
   ]
  },
  {
   "cell_type": "code",
   "execution_count": 24,
   "metadata": {},
   "outputs": [
    {
     "name": "stdout",
     "output_type": "stream",
     "text": [
      "{'_id': ObjectId('5efa09571d41f18b8958255c'), 'name': 'John Smith', 'email': 'j.smith@thesmiths.com'}\n",
      "{'_id': ObjectId('5efa09571d41f18b8958255d'), 'name': 'Jane Smith', 'email': 'jane_smith@thesmiths.com'}\n",
      "{'_id': ObjectId('5efa09571d41f18b8958255e'), 'name': 'Adam Enbar', 'email': 'adam@theflatironschool.com'}\n",
      "{'_id': ObjectId('5efa09571d41f18b8958255f'), 'name': 'Avi Flombaum', 'email': 'avi@theflatironschool.com'}\n",
      "{'_id': ObjectId('5efa09571d41f18b89582560'), 'name': 'Steven S.', 'email': 'steven.s@gmail.net'}\n",
      "{'_id': ObjectId('5efa0bb51d41f18b89582562'), 'name': 'John Smith', 'email': 'j.smith@thesmiths.com'}\n",
      "{'_id': ObjectId('5efa0bb51d41f18b89582563'), 'name': 'Jane Smith', 'email': 'jane_smith@thesmiths.com'}\n",
      "{'_id': ObjectId('5efa0bb51d41f18b89582564'), 'name': 'Adam Enbar', 'email': 'adam@theflatironschool.com'}\n",
      "{'_id': ObjectId('5efa0bb51d41f18b89582565'), 'name': 'Avi Flombaum', 'email': 'avi@theflatironschool.com'}\n",
      "{'_id': ObjectId('5efa0bb51d41f18b89582566'), 'name': 'Steven S.', 'email': 'steven.s@gmail.net'}\n"
     ]
    }
   ],
   "source": [
    "query_1 = mycollection.find({}, {'name': 1, 'email': 1})\n",
    "for item in query_1:\n",
    "    print(item)"
   ]
  },
  {
   "cell_type": "markdown",
   "metadata": {},
   "source": [
    "Great! Now, let's write a query that gets an individual record based on a stored key-value pair a document contains. \n",
    "\n",
    "In the cell below, write a query to get the record for `'John Smith'` by using his name. Then, print the results of the query to demonstrate that it worked correctly.  "
   ]
  },
  {
   "cell_type": "code",
   "execution_count": 25,
   "metadata": {},
   "outputs": [
    {
     "name": "stdout",
     "output_type": "stream",
     "text": [
      "{'_id': ObjectId('5efa09571d41f18b8958255c'), 'name': 'John Smith', 'email': 'j.smith@thesmiths.com', 'mailing_address': '123 mulberry lane', 'balance': 0, 'notes': 'Called technical support, issue not yet resolved', 'address': '367 55th St., apt 2A'}\n",
      "{'_id': ObjectId('5efa0bb51d41f18b89582562'), 'name': 'John Smith', 'email': 'j.smith@thesmiths.com', 'mailing_address': '123 mulberry lane', 'balance': 0, 'notes': 'Called technical support, issue not yet resolved'}\n"
     ]
    }
   ],
   "source": [
    "query_2 = mycollection.find({'name': 'John Smith'})\n",
    "for item in query_2:\n",
    "    print(item)\n"
   ]
  },
  {
   "cell_type": "markdown",
   "metadata": {},
   "source": [
    "Great! Now, write a query to get the names, email addresses, and balances for customers that have a balance greater than 0. Use a modifier to do this. \n",
    "\n",
    "**_HINT_**: In the query below, you'll be passing in two separate dictionaries. The first one defines the logic of the query, while the second tells which fields we want returned. "
   ]
  },
  {
   "cell_type": "code",
   "execution_count": 26,
   "metadata": {},
   "outputs": [
    {
     "name": "stdout",
     "output_type": "stream",
     "text": [
      "{'_id': ObjectId('5efa09571d41f18b8958255d'), 'name': 'Jane Smith', 'email': 'jane_smith@thesmiths.com', 'balance': 25}\n",
      "{'_id': ObjectId('5efa09571d41f18b8958255e'), 'name': 'Adam Enbar', 'email': 'adam@theflatironschool.com', 'balance': 14.99}\n",
      "{'_id': ObjectId('5efa0bb51d41f18b89582563'), 'name': 'Jane Smith', 'email': 'jane_smith@thesmiths.com', 'balance': 25}\n",
      "{'_id': ObjectId('5efa0bb51d41f18b89582564'), 'name': 'Adam Enbar', 'email': 'adam@theflatironschool.com', 'balance': 14.99}\n"
     ]
    }
   ],
   "source": [
    "query_3 = mycollection.find({'balance': {'$gt': 0}},\n",
    "                            {'name': 1, 'email': 1, 'balance': 1})\n",
    "for item in query_3:\n",
    "    print(item)"
   ]
  },
  {
   "cell_type": "markdown",
   "metadata": {},
   "source": [
    "## Updating a Record\n",
    "\n",
    "Now, let's update some records. In the cell below. set the mailing address for `'John Smith'` to `'367 55th St., apt 2A'`."
   ]
  },
  {
   "cell_type": "code",
   "execution_count": 27,
   "metadata": {},
   "outputs": [
    {
     "data": {
      "text/plain": [
       "<pymongo.results.UpdateResult at 0x1adc5511e48>"
      ]
     },
     "execution_count": 27,
     "metadata": {},
     "output_type": "execute_result"
    }
   ],
   "source": [
    "record_to_update_1 = {'name': 'John Smith'}\n",
    "update_1 = {'$set':{'mailing_address': '367 55th St., apt 2A'}}\n",
    "mycollection.update_one(record_to_update_1, update_1)\n"
   ]
  },
  {
   "cell_type": "markdown",
   "metadata": {},
   "source": [
    "Now, write a query to check that the update worked for this document in the cell below:  "
   ]
  },
  {
   "cell_type": "code",
   "execution_count": 29,
   "metadata": {},
   "outputs": [
    {
     "name": "stdout",
     "output_type": "stream",
     "text": [
      "{'_id': ObjectId('5efa09571d41f18b8958255c'), 'name': 'John Smith', 'email': 'j.smith@thesmiths.com', 'mailing_address': '367 55th St., apt 2A', 'balance': 0, 'notes': 'Called technical support, issue not yet resolved', 'address': '367 55th St., apt 2A'}\n",
      "{'_id': ObjectId('5efa0bb51d41f18b89582562'), 'name': 'John Smith', 'email': 'j.smith@thesmiths.com', 'mailing_address': '123 mulberry lane', 'balance': 0, 'notes': 'Called technical support, issue not yet resolved'}\n"
     ]
    }
   ],
   "source": [
    "query_4 = mycollection.find({'name': 'John Smith'})\n",
    "for item in query_4:\n",
    "    print(item)"
   ]
  },
  {
   "cell_type": "markdown",
   "metadata": {},
   "source": [
    "Now, let's assume that we want to add birthdays for each customer record. Consider the following table:\n",
    "\n",
    "|     Name     |  Birthday  |\n",
    "|:------------:|:----------:|\n",
    "|  John Smith  | 02/20/1986 |\n",
    "|  Jane Smith  | 07/07/1983 |\n",
    "|  Adam Enbar  | 12/02/1982 |\n",
    "| Avi Flombaum | 04/17/1983 |\n",
    "|   Steven S.  | 08/30/1991 |\n",
    "\n",
    "We want to add birthdays for each person, but we want to do so in a way where we don't have to do the same repetitive task over and over again. This seems like a good opportunity to write a function to handle some of the logic for us!\n",
    "\n",
    "In the cell below:\n",
    "\n",
    "* Store the names in the `names_list` variable as a list.\n",
    "* Store the birthdays in the `birthdays_list` variable as a list.\n",
    "* Write a function that takes in the two different lists, and updates each record by adding in the appropriate key-value pair containing that user's birthday.\n",
    "\n",
    "**_Hint:_** There are several ways that you could write this, depending on whether you want to use the `update_one()` method or the `update_many()` method. See if you can figure out both approaches!"
   ]
  },
  {
   "cell_type": "code",
   "execution_count": 32,
   "metadata": {},
   "outputs": [],
   "source": [
    "names_list = ['John Smith','Jane Smith','Adam Enbar','Avi Flombaum','Steven S.']\n",
    "\n",
    "birthdays_list = ['02/20/1986', '07/07/1983', '12/02/1982', '04/17/1983', '08/30/1991']\n",
    "\n",
    "def update_birthdays(names, birthdays):\n",
    "    for name in names_list:\n",
    "        query = {'name': name}\n",
    "    for birthday in birthdays_list:\n",
    "        update = {'$set': {'Birthday': birthday}}\n",
    "\n",
    "    mycollection.update_one(query, update)\n",
    "  \n",
    "    \n",
    "update_birthdays(names_list, birthdays_list)"
   ]
  },
  {
   "cell_type": "markdown",
   "metadata": {},
   "source": [
    "Now, write a query to check your work and see that the birthdays were added correctly."
   ]
  },
  {
   "cell_type": "code",
   "execution_count": 33,
   "metadata": {},
   "outputs": [
    {
     "data": {
      "text/plain": [
       "[{'_id': ObjectId('5efa09571d41f18b8958255c'),\n",
       "  'name': 'John Smith',\n",
       "  'email': 'j.smith@thesmiths.com',\n",
       "  'mailing_address': '367 55th St., apt 2A',\n",
       "  'balance': 0,\n",
       "  'notes': 'Called technical support, issue not yet resolved',\n",
       "  'address': '367 55th St., apt 2A'},\n",
       " {'_id': ObjectId('5efa09571d41f18b8958255d'),\n",
       "  'name': 'Jane Smith',\n",
       "  'email': 'jane_smith@thesmiths.com',\n",
       "  'mailing_address': '',\n",
       "  'balance': 25,\n",
       "  'notes': ''},\n",
       " {'_id': ObjectId('5efa09571d41f18b8958255e'),\n",
       "  'name': 'Adam Enbar',\n",
       "  'email': 'adam@theflatironschool.com',\n",
       "  'mailing_address': '11 Broadway',\n",
       "  'balance': 14.99,\n",
       "  'notes': 'Set up on recurring billing cycle'},\n",
       " {'_id': ObjectId('5efa09571d41f18b8958255f'),\n",
       "  'name': 'Avi Flombaum',\n",
       "  'email': 'avi@theflatironschool.com',\n",
       "  'mailing_address': '11 Broadway',\n",
       "  'balance': 0,\n",
       "  'notes': ''},\n",
       " {'_id': ObjectId('5efa09571d41f18b89582560'),\n",
       "  'name': 'Steven S.',\n",
       "  'email': 'steven.s@gmail.net',\n",
       "  'mailing_address': '',\n",
       "  'balance': -20.23,\n",
       "  'notes': 'Refunded for overpayment due to price match guarantee',\n",
       "  'Birthday': '08/30/1991'},\n",
       " {'_id': ObjectId('5efa0bb51d41f18b89582562'),\n",
       "  'name': 'John Smith',\n",
       "  'email': 'j.smith@thesmiths.com',\n",
       "  'mailing_address': '123 mulberry lane',\n",
       "  'balance': 0,\n",
       "  'notes': 'Called technical support, issue not yet resolved'},\n",
       " {'_id': ObjectId('5efa0bb51d41f18b89582563'),\n",
       "  'name': 'Jane Smith',\n",
       "  'email': 'jane_smith@thesmiths.com',\n",
       "  'mailing_address': '',\n",
       "  'balance': 25,\n",
       "  'notes': ''},\n",
       " {'_id': ObjectId('5efa0bb51d41f18b89582564'),\n",
       "  'name': 'Adam Enbar',\n",
       "  'email': 'adam@theflatironschool.com',\n",
       "  'mailing_address': '11 Broadway',\n",
       "  'balance': 14.99,\n",
       "  'notes': 'Set up on recurring billing cycle'},\n",
       " {'_id': ObjectId('5efa0bb51d41f18b89582565'),\n",
       "  'name': 'Avi Flombaum',\n",
       "  'email': 'avi@theflatironschool.com',\n",
       "  'mailing_address': '11 Broadway',\n",
       "  'balance': 0,\n",
       "  'notes': ''},\n",
       " {'_id': ObjectId('5efa0bb51d41f18b89582566'),\n",
       "  'name': 'Steven S.',\n",
       "  'email': 'steven.s@gmail.net',\n",
       "  'mailing_address': '',\n",
       "  'balance': -20.23,\n",
       "  'notes': 'Refunded for overpayment due to price match guarantee'}]"
      ]
     },
     "execution_count": 33,
     "metadata": {},
     "output_type": "execute_result"
    }
   ],
   "source": [
    "[i for i in mycollection.find()]"
   ]
  },
  {
   "cell_type": "markdown",
   "metadata": {},
   "source": [
    "Great! It looks like the birthdays have been successfully added to every record correctly!\n",
    "\n",
    "## Summary\n",
    "\n",
    "In this lesson, we got some hands-on practice working with MongoDB!"
   ]
  }
 ],
 "metadata": {
  "kernelspec": {
   "display_name": "Python 3",
   "language": "python",
   "name": "python3"
  },
  "language_info": {
   "codemirror_mode": {
    "name": "ipython",
    "version": 3
   },
   "file_extension": ".py",
   "mimetype": "text/x-python",
   "name": "python",
   "nbconvert_exporter": "python",
   "pygments_lexer": "ipython3",
   "version": "3.6.9"
  }
 },
 "nbformat": 4,
 "nbformat_minor": 2
}
